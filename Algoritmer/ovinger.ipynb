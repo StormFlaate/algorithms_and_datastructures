{
 "metadata": {
  "language_info": {
   "codemirror_mode": {
    "name": "ipython",
    "version": 3
   },
   "file_extension": ".py",
   "mimetype": "text/x-python",
   "name": "python",
   "nbconvert_exporter": "python",
   "pygments_lexer": "ipython3",
   "version": "3.7.3-final"
  },
  "orig_nbformat": 2,
  "kernelspec": {
   "name": "Python 3.7.3 64-bit ('base': conda)",
   "display_name": "Python 3.7.3 64-bit ('base': conda)",
   "metadata": {
    "interpreter": {
     "hash": "45069ea5925b578d137fa1ce99bd1c8da85e013cc042b5eee930cd0c9f6d351c"
    }
   }
  }
 },
 "nbformat": 4,
 "nbformat_minor": 2,
 "cells": [
  {
   "source": [
    "# Kodeoppgaver fra øvingene"
   ],
   "cell_type": "markdown",
   "metadata": {}
  },
  {
   "source": [
    "## Øving 1"
   ],
   "cell_type": "markdown",
   "metadata": {}
  },
  {
   "source": [
    "### Insertion sort"
   ],
   "cell_type": "markdown",
   "metadata": {}
  },
  {
   "cell_type": "code",
   "execution_count": 3,
   "metadata": {
    "tags": []
   },
   "outputs": [
    {
     "output_type": "stream",
     "name": "stdout",
     "text": "[2, 4, 6, 7, 10, 13, 13]\n"
    }
   ],
   "source": [
    "def insertion_sort(A):\n",
    "    for j in range(2, len(A)):\n",
    "        key = A[j]\n",
    "        # Insert A[j] into the sorted sequence A[1 ... j-1]\n",
    "        A[-1] = A[j]\n",
    "        i = j-1\n",
    "        while i>0 and A[i] > key:\n",
    "            A[i+1] = A[i]\n",
    "            i = i-1\n",
    "        A[i+1] = key\n",
    "\n",
    "unSorted = [2, 6, 4, 10, 7, 13, 1]\n",
    "\n",
    "insertion_sort(unSorted)\n",
    "\n",
    "print(unSorted)\n"
   ]
  },
  {
   "source": [
    "### Nim\n",
    "Implementer en funksjon, take_pieces, som tar inn antall gjenværende fyrstikker. Funksjonen skal returnere det antallet fyrstikker du må ta for å garantere at du vinner. Hvis det ikke er mulig å garantere at du vinner, så kan du returnere et hvilket som helst, gyldig antall fyrstikker."
   ],
   "cell_type": "markdown",
   "metadata": {}
  },
  {
   "cell_type": "code",
   "execution_count": 5,
   "metadata": {},
   "outputs": [
    {
     "output_type": "error",
     "ename": "SyntaxError",
     "evalue": "unexpected EOF while parsing (&lt;ipython-input-5-9877429e5937&gt;, line 2)",
     "traceback": [
      "\u001b[1;36m  File \u001b[1;32m&quot;&lt;ipython-input-5-9877429e5937&gt;&quot;\u001b[1;36m, line \u001b[1;32m2\u001b[0m\n\u001b[1;33m    # Skriv koden din her\u001b[0m\n\u001b[1;37m                         ^\u001b[0m\n\u001b[1;31mSyntaxError\u001b[0m\u001b[1;31m:\u001b[0m unexpected EOF while parsing\n"
     ]
    }
   ],
   "source": [
    "def take_pieces(n_pieces):\n",
    "    # Skriv koden din her\n",
    "\n",
    "    "
   ]
  },
  {
   "source": [
    "## Øving 2"
   ],
   "cell_type": "markdown",
   "metadata": {}
  },
  {
   "source": [
    "### Queue\n",
    "For at studentassistentene skal kunne hjelpe studentene i riktig og rettferdig rekkefølge, trenger man et system som holder styr på hvem som venter på hjelp og hvilken rekkefølge disse skal få hjelp i. En kø (FIFO) passer godt til dette. Implementer en slik kø ved å fylle ut koden for Queue klassen under.\n",
    "\n",
    "Funksjonene enqueue og dequeue skal fungere på samme måte som henholdsvis ENQUEUEENQUEUE og DEQUEUEDEQUEUE operasjonene presentert i boken. I __init__ metoden kan du initialisere de interne verdiene du trenger. max_size argumentet til __init__ metoden sier hvor mange elementer det maksimalt kommer til å være i køen på et vilkårlig tidspunkt."
   ],
   "cell_type": "markdown",
   "metadata": {}
  },
  {
   "cell_type": "code",
   "execution_count": 12,
   "metadata": {},
   "outputs": [
    {
     "output_type": "error",
     "ename": "AttributeError",
     "evalue": "&#39;list&#39; object has no attribute &#39;max_size&#39;",
     "traceback": [
      "\u001b[1;31m---------------------------------------------------------------------------\u001b[0m",
      "\u001b[1;31mAttributeError\u001b[0m                            Traceback (most recent call last)",
      "\u001b[1;32m&lt;ipython-input-12-9e29051c9733&gt;\u001b[0m in \u001b[0;36m&lt;module&gt;\u001b[1;34m\u001b[0m\n\u001b[0;32m     28\u001b[0m \u001b[0mhighscore\u001b[0m \u001b[1;33m=\u001b[0m \u001b[1;32mFalse\u001b[0m\u001b[1;33m\u001b[0m\u001b[1;33m\u001b[0m\u001b[0m\n\u001b[0;32m     29\u001b[0m \u001b[1;33m\u001b[0m\u001b[0m\n\u001b[1;32m---&gt; 30\u001b[1;33m \u001b[0mQueue\u001b[0m\u001b[1;33m.\u001b[0m\u001b[0m__init__\u001b[0m\u001b[1;33m(\u001b[0m\u001b[1;33m[\u001b[0m\u001b[1;36m1\u001b[0m\u001b[1;33m,\u001b[0m\u001b[1;36m2\u001b[0m\u001b[1;33m,\u001b[0m\u001b[1;36m3\u001b[0m\u001b[1;33m]\u001b[0m\u001b[1;33m,\u001b[0m \u001b[1;36m3\u001b[0m\u001b[1;33m)\u001b[0m\u001b[1;33m\u001b[0m\u001b[1;33m\u001b[0m\u001b[0m\n\u001b[0m",
      "\u001b[1;32m&lt;ipython-input-12-9e29051c9733&gt;\u001b[0m in \u001b[0;36m__init__\u001b[1;34m(self, max_size)\u001b[0m\n\u001b[0;32m      3\u001b[0m     \u001b[1;32mdef\u001b[0m \u001b[0m__init__\u001b[0m\u001b[1;33m(\u001b[0m\u001b[0mself\u001b[0m\u001b[1;33m,\u001b[0m \u001b[0mmax_size\u001b[0m\u001b[1;33m)\u001b[0m\u001b[1;33m:\u001b[0m\u001b[1;33m\u001b[0m\u001b[1;33m\u001b[0m\u001b[0m\n\u001b[0;32m      4\u001b[0m         \u001b[1;31m# Initialiser de underliggende datastrukturene her\u001b[0m\u001b[1;33m\u001b[0m\u001b[1;33m\u001b[0m\u001b[1;33m\u001b[0m\u001b[0m\n\u001b[1;32m----&gt; 5\u001b[1;33m         \u001b[0mself\u001b[0m\u001b[1;33m.\u001b[0m\u001b[0mmax_size\u001b[0m \u001b[1;33m=\u001b[0m \u001b[0mmax_size\u001b[0m\u001b[1;33m\u001b[0m\u001b[1;33m\u001b[0m\u001b[0m\n\u001b[0m\u001b[0;32m      6\u001b[0m         \u001b[0mself\u001b[0m\u001b[1;33m.\u001b[0m\u001b[0marray\u001b[0m \u001b[1;33m=\u001b[0m \u001b[0mself\u001b[0m\u001b[1;33m\u001b[0m\u001b[1;33m\u001b[0m\u001b[0m\n\u001b[0;32m      7\u001b[0m         \u001b[0mself\u001b[0m\u001b[1;33m.\u001b[0m\u001b[0msize\u001b[0m \u001b[1;33m=\u001b[0m \u001b[0mlen\u001b[0m\u001b[1;33m(\u001b[0m\u001b[0mself\u001b[0m\u001b[1;33m)\u001b[0m\u001b[1;33m\u001b[0m\u001b[1;33m\u001b[0m\u001b[0m\n",
      "\u001b[1;31mAttributeError\u001b[0m: &#39;list&#39; object has no attribute &#39;max_size&#39;"
     ]
    }
   ],
   "source": [
    "class Queue:\n",
    "\n",
    "    def __init__(self, max_size):\n",
    "        # Initialiser de underliggende datastrukturene her\n",
    "        self.max_size = max_size\n",
    "        self.size = self.size\n",
    "\n",
    "\n",
    "    def enqueue(self, value):\n",
    "        # Skriv kode for Enqueue operasjonen\n",
    "        if self.size < self.max_size:\n",
    "            self.array.append(value)\n",
    "        else:\n",
    "            print(\"queue is full\")\n",
    "\n",
    "\n",
    "    def dequeue(self):\n",
    "        # Skriv kode for Dequeue operasjonen\n",
    "        if self.size <=0:\n",
    "            print(\"queue is empty\")\n",
    "        else:\n",
    "            self.array.pop(0)\n",
    "\n",
    "# Sett 'highscore' til True hvis du vil vises på poengtavlen.\n",
    "# For mer info se 'https://algdat.idi.ntnu.no/ovinger.html#poengtavle'\n",
    "# Merk: Kjøring for poengtavlen tar betraktelig lengre tid.\n",
    "highscore = False\n",
    "\n",
    "Queue.__init__([1,2,3], 3)"
   ]
  },
  {
   "cell_type": "code",
   "execution_count": null,
   "metadata": {},
   "outputs": [],
   "source": []
  }
 ]
}